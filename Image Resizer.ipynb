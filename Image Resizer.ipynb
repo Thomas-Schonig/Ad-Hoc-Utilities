{
 "cells": [
  {
   "cell_type": "markdown",
   "metadata": {},
   "source": [
    "# Batch Resizing & Compressing Images\n",
    "### By Thomas Bueno-Schonig\n",
    "Kimberley and I run a Shopify store (http://www.thecuddlyboutique.com) and took all the product photos with a DSLR. Sounds great, right? High resolution photos of all our wares so that anyone online can get a good view of what we're offering! \n",
    "\n",
    "...Except, the high resolution photos are too big and actually cause more problems on Shopify than they solve. At ~4000x3000 pixels and several MB each, Shopify will never serve them in their full glory anyway. The CSS on each page will reduce their dimensions when called. However, the site will first still load the full file, which means the page will load much slower than need be. And in eCommerce, that means more bounces, fewer conversions, and lower search engine ranking.\n",
    "\n",
    "So, I put together this quick Python script to resize and reduce each photo."
   ]
  },
  {
   "cell_type": "code",
   "execution_count": 14,
   "metadata": {},
   "outputs": [],
   "source": [
    "# We import image and OS libraries\n",
    "import PIL\n",
    "from PIL import Image\n",
    "import os"
   ]
  },
  {
   "cell_type": "code",
   "execution_count": 4,
   "metadata": {},
   "outputs": [
    {
     "data": {
      "text/plain": [
       "'/home/tom'"
      ]
     },
     "execution_count": 4,
     "metadata": {},
     "output_type": "execute_result"
    }
   ],
   "source": [
    "# We check our current working directory. Note: We're working in Ubuntu Linux\n",
    "os.getcwd()"
   ]
  },
  {
   "cell_type": "code",
   "execution_count": 8,
   "metadata": {},
   "outputs": [
    {
     "data": {
      "text/plain": [
       "'/media/tom/Data2/Cuddly Ventures/Inventory Photos'"
      ]
     },
     "execution_count": 8,
     "metadata": {},
     "output_type": "execute_result"
    }
   ],
   "source": [
    "# We change our working directory to where all the images are stored, and check again to confirm\n",
    "os.chdir('/media/tom/Data2/Cuddly Ventures/Inventory Photos')\n",
    "os.getcwd()"
   ]
  },
  {
   "cell_type": "code",
   "execution_count": 10,
   "metadata": {},
   "outputs": [
    {
     "data": {
      "text/plain": [
       "179"
      ]
     },
     "execution_count": 10,
     "metadata": {},
     "output_type": "execute_result"
    }
   ],
   "source": [
    "# Now we read all the contents of the filepath...\n",
    "contents = os.listdir(os.getcwd())\n",
    "# ...And loop over them to save a list of just the jpg images\n",
    "pictures = [i for i in contents if i.endswith('.jpg')]\n",
    "len(pictures)"
   ]
  },
  {
   "cell_type": "code",
   "execution_count": 12,
   "metadata": {},
   "outputs": [],
   "source": [
    "# We make a new subdirectory in our current location to house the new image copies after our operations\n",
    "os.mkdir('resized')"
   ]
  },
  {
   "cell_type": "code",
   "execution_count": 18,
   "metadata": {},
   "outputs": [
    {
     "name": "stdout",
     "output_type": "stream",
     "text": [
      "1 of 179  PORTRAIT  00000IMG_00000_BURST20191129115155212_COVER-01resized.jpg (3024, 4032)  ->   ( 2048 , 2730 )\n",
      "2 of 179  PORTRAIT  00000IMG_00000_BURST20191129115308438_COVER-01resized.jpg (3024, 4032)  ->   ( 2048 , 2730 )\n",
      "3 of 179  PORTRAIT  00000IMG_00000_BURST20191129115405626_COVER-01resized.jpg (600, 800)  ->   ( 2048 , 2730 )\n",
      "4 of 179  PORTRAIT  00000IMG_00000_BURST20191129115753587_COVER-01resized.jpg (3024, 4032)  ->   ( 2048 , 2730 )\n",
      "5 of 179  PORTRAIT  00000IMG_00000_BURST20191129115800044_COVER-01resized.jpg (3024, 4032)  ->   ( 2048 , 2730 )\n",
      "6 of 179  PORTRAIT  00000IMG_00000_BURST20191129115807955_COVER-01resized.jpg (3024, 4032)  ->   ( 2048 , 2730 )\n",
      "7 of 179  PORTRAIT  00000IMG_00000_BURST20191129115956199_COVER-01resized.jpg (3024, 4032)  ->   ( 2048 , 2730 )\n",
      "8 of 179  PORTRAIT  00000IMG_00000_BURST20191129120043236_COVER-01resized.jpg (3024, 4032)  ->   ( 2048 , 2730 )\n",
      "9 of 179  PORTRAIT  00000IMG_00000_BURST20191129120052477_COVER-01resized.jpg (3024, 4032)  ->   ( 2048 , 2730 )\n",
      "10 of 179  PORTRAIT  00000IMG_00000_BURST20191129152818204_COVER-01resized.jpg (3024, 4032)  ->   ( 2048 , 2730 )\n",
      "11 of 179  PORTRAIT  00000IMG_00000_BURST20191129152823384_COVER-01resized.jpg (3024, 4032)  ->   ( 2048 , 2730 )\n",
      "12 of 179  PORTRAIT  00000IMG_00000_BURST20191129152851746_COVER-01resized.jpg (3024, 4032)  ->   ( 2048 , 2730 )\n",
      "13 of 179  PORTRAIT  00000IMG_00000_BURST20191208132548670_COVER-01 (1)resized.jpg (3024, 4032)  ->   ( 2048 , 2730 )\n",
      "14 of 179  LANDSCAPE  00000IMG_00000_BURST20191219143614938_COVERresized.jpg (4032, 3024)   ->   ( 2730 , 2048 )\n",
      "15 of 179  PORTRAIT  00000IMG_00000_BURST20191219143617367_COVER-01resized.jpg (3024, 4032)  ->   ( 2048 , 2730 )\n",
      "16 of 179  LANDSCAPE  00000IMG_00000_BURST20191219143617367_COVERresized.jpg (4032, 3024)   ->   ( 2730 , 2048 )\n",
      "17 of 179  PORTRAIT  00000IMG_00000_BURST20191219143618871_COVER-01resized.jpg (3024, 4032)  ->   ( 2048 , 2730 )\n",
      "18 of 179  LANDSCAPE  00000IMG_00000_BURST20191219143618871_COVERresized.jpg (4032, 3024)   ->   ( 2730 , 2048 )\n",
      "19 of 179  PORTRAIT  00000IMG_00000_BURST20191219143620718_COVER-01resized.jpg (3024, 4032)  ->   ( 2048 , 2730 )\n",
      "20 of 179  LANDSCAPE  00000IMG_00000_BURST20191219143620718_COVERresized.jpg (4032, 3024)   ->   ( 2730 , 2048 )\n",
      "21 of 179  PORTRAIT  00100lPORTRAIT_00100_BURST20191129114915452_COVER-01resized.jpg (3024, 4032)  ->   ( 2048 , 2730 )\n",
      "22 of 179  PORTRAIT  00100lPORTRAIT_00100_BURST20191129114933731_COVER-01resized.jpg (3024, 4032)  ->   ( 2048 , 2730 )\n",
      "23 of 179  PORTRAIT  00100lPORTRAIT_00100_BURST20191129115018126_COVER-01resized.jpg (3024, 4032)  ->   ( 2048 , 2730 )\n",
      "24 of 179  PORTRAIT  00100lPORTRAIT_00100_BURST20191129115353990_COVER-01resized.jpg (3024, 4032)  ->   ( 2048 , 2730 )\n",
      "25 of 179  PORTRAIT  00100lPORTRAIT_00100_BURST20191129115357045_COVER-01resized.jpg (2826, 3767)  ->   ( 2048 , 2729 )\n",
      "26 of 179  PORTRAIT  00100lPORTRAIT_00100_BURST20191129115457050_COVER-01resized.jpg (3024, 4032)  ->   ( 2048 , 2730 )\n",
      "27 of 179  PORTRAIT  00100lPORTRAIT_00100_BURST20191129115535332_COVER-01resized.jpg (3024, 4032)  ->   ( 2048 , 2730 )\n",
      "28 of 179  PORTRAIT  00100lPORTRAIT_00100_BURST20191129115555576_COVER-01resized.jpg (3024, 4032)  ->   ( 2048 , 2730 )\n",
      "29 of 179  PORTRAIT  00100lPORTRAIT_00100_BURST20191129115818776_COVER-01resized.jpg (3024, 4032)  ->   ( 2048 , 2730 )\n",
      "30 of 179  PORTRAIT  00100lPORTRAIT_00100_BURST20191129115911236_COVER-01resized.jpg (3024, 4032)  ->   ( 2048 , 2730 )\n",
      "31 of 179  PORTRAIT  00100lrPORTRAIT_00100_BURST20191208133206530_COVER-01resized.jpg (3024, 4032)  ->   ( 2048 , 2730 )\n",
      "32 of 179  PORTRAIT  00100lrPORTRAIT_00100_BURST20191208133229580_COVER-01resized.jpg (3024, 4032)  ->   ( 2048 , 2730 )\n",
      "33 of 179  PORTRAIT  00100lrPORTRAIT_00100_BURST20191208133241929_COVER-01resized.jpg (3024, 4032)  ->   ( 2048 , 2730 )\n",
      "34 of 179  PORTRAIT  00100lrPORTRAIT_00100_BURST20191208133327660_COVER-01resized.jpg (3024, 4032)  ->   ( 2048 , 2730 )\n",
      "35 of 179  PORTRAIT  00100lrPORTRAIT_00100_BURST20191208133347167_COVER-01resized.jpg (3024, 4032)  ->   ( 2048 , 2730 )\n",
      "36 of 179  PORTRAIT  00100lrPORTRAIT_00100_BURST20191208133407985_COVER-01resized.jpg (3024, 4032)  ->   ( 2048 , 2730 )\n",
      "37 of 179  PORTRAIT  00100lrPORTRAIT_00100_BURST20191208133432618_COVER-01resized.jpg (3024, 4032)  ->   ( 2048 , 2730 )\n",
      "38 of 179  PORTRAIT  00100lrPORTRAIT_00100_BURST20191208133435769_COVER-01resized.jpg (3024, 4032)  ->   ( 2048 , 2730 )\n",
      "39 of 179  PORTRAIT  00100lrPORTRAIT_00100_BURST20191208133501658_COVER-01resized.jpg (3024, 4032)  ->   ( 2048 , 2730 )\n",
      "40 of 179  PORTRAIT  00100lrPORTRAIT_00100_BURST20191208133537558_COVER-01resized.jpg (3024, 4032)  ->   ( 2048 , 2730 )\n",
      "41 of 179  PORTRAIT  00100lrPORTRAIT_00100_BURST20191208133544894_COVER-01resized.jpg (3024, 4032)  ->   ( 2048 , 2730 )\n",
      "42 of 179  PORTRAIT  00000IMG_00000_BURST20191208132548670_COVER-01resized.jpg (3024, 4032)  ->   ( 2048 , 2730 )\n",
      "43 of 179  PORTRAIT  00000IMG_00000_BURST20191208133557007_COVER-01resized.jpg (3024, 4032)  ->   ( 2048 , 2730 )\n",
      "44 of 179  PORTRAIT  00000IMG_00000_BURST20191219143238353_COVER-01resized.jpg (3024, 4032)  ->   ( 2048 , 2730 )\n",
      "45 of 179  LANDSCAPE  00000IMG_00000_BURST20191219143401555_COVERresized.jpg (4032, 3024)   ->   ( 2730 , 2048 )\n",
      "46 of 179  LANDSCAPE  00000IMG_00000_BURST20191219143446390_COVERresized.jpg (4032, 3024)   ->   ( 2730 , 2048 )\n",
      "47 of 179  LANDSCAPE  00000IMG_00000_BURST20191219143536685_COVERresized.jpg (4032, 3024)   ->   ( 2730 , 2048 )\n",
      "48 of 179  PORTRAIT  00000IMG_00000_BURST20191219143614938_COVER-01resized.jpg (3024, 4032)  ->   ( 2048 , 2730 )\n",
      "49 of 179  PORTRAIT  00100lPORTRAIT_00100_BURST20191129115927107_COVER-01resized.jpg (3024, 4032)  ->   ( 2048 , 2730 )\n",
      "50 of 179  PORTRAIT  00100lPORTRAIT_00100_BURST20191129154544561_COVER-01resized.jpg (3024, 4032)  ->   ( 2048 , 2730 )\n",
      "51 of 179  PORTRAIT  00100lrPORTRAIT_00100_BURST20191208133143177_COVER-01resized.jpg (3024, 4032)  ->   ( 2048 , 2730 )\n",
      "52 of 179  PORTRAIT  00100lrPORTRAIT_00100_BURST20191208133609077_COVER-01resized.jpg (3024, 4032)  ->   ( 2048 , 2730 )\n",
      "53 of 179  LANDSCAPE  00000IMG_00000_BURST20191219143238353_COVERresized.jpg (4032, 3024)   ->   ( 2730 , 2048 )\n",
      "54 of 179  LANDSCAPE  00000IMG_00000_BURST20191219143249411_COVERresized.jpg (4032, 3024)   ->   ( 2730 , 2048 )\n",
      "55 of 179  LANDSCAPE  00000IMG_00000_BURST20191219143249921_COVERresized.jpg (4032, 3024)   ->   ( 2730 , 2048 )\n",
      "56 of 179  LANDSCAPE  00000IMG_00000_BURST20191219143254307_COVERresized.jpg (4032, 3024)   ->   ( 2730 , 2048 )\n",
      "57 of 179  LANDSCAPE  00000IMG_00000_BURST20191219143254674_COVERresized.jpg (4032, 3024)   ->   ( 2730 , 2048 )\n",
      "58 of 179  LANDSCAPE  00000IMG_00000_BURST20191219143302617_COVERresized.jpg (4032, 3024)   ->   ( 2730 , 2048 )\n",
      "59 of 179  LANDSCAPE  00000IMG_00000_BURST20191219143303051_COVERresized.jpg (4032, 3024)   ->   ( 2730 , 2048 )\n",
      "60 of 179  LANDSCAPE  00000IMG_00000_BURST20191219143348392_COVER-01resized.jpg (4032, 3024)   ->   ( 2730 , 2048 )\n",
      "61 of 179  LANDSCAPE  00000IMG_00000_BURST20191219143348392_COVERresized.jpg (4032, 3024)   ->   ( 2730 , 2048 )\n",
      "62 of 179  LANDSCAPE  00000IMG_00000_BURST20191219143348901_COVERresized.jpg (4032, 3024)   ->   ( 2730 , 2048 )\n",
      "63 of 179  LANDSCAPE  00000IMG_00000_BURST20191219143349814_COVERresized.jpg (4032, 3024)   ->   ( 2730 , 2048 )\n",
      "64 of 179  PORTRAIT  00000IMG_00000_BURST20191219143357898_COVER-01resized.jpg (3024, 4032)  ->   ( 2048 , 2730 )\n",
      "65 of 179  LANDSCAPE  00000IMG_00000_BURST20191219143357898_COVERresized.jpg (4032, 3024)   ->   ( 2730 , 2048 )\n",
      "66 of 179  PORTRAIT  00000IMG_00000_BURST20191219143359844_COVER-01resized.jpg (3024, 4032)  ->   ( 2048 , 2730 )\n",
      "67 of 179  LANDSCAPE  00000IMG_00000_BURST20191219143359844_COVERresized.jpg (4032, 3024)   ->   ( 2730 , 2048 )\n",
      "68 of 179  PORTRAIT  00100lPORTRAIT_00100_BURST20191129115941456_COVER-01resized.jpg (3024, 4032)  ->   ( 2048 , 2730 )\n",
      "69 of 179  PORTRAIT  00100lPORTRAIT_00100_BURST20191129152856813_COVER-01resized.jpg (3024, 4032)  ->   ( 2048 , 2730 )\n",
      "70 of 179  PORTRAIT  00100lPORTRAIT_00100_BURST20191129152923754_COVER-01resized.jpg (3024, 4032)  ->   ( 2048 , 2730 )\n",
      "71 of 179  PORTRAIT  00100lPORTRAIT_00100_BURST20191129153318831_COVER-01resized.jpg (3024, 4032)  ->   ( 2048 , 2730 )\n"
     ]
    },
    {
     "name": "stdout",
     "output_type": "stream",
     "text": [
      "72 of 179  PORTRAIT  00100lPORTRAIT_00100_BURST20191129153503592_COVER-01resized.jpg (3024, 4032)  ->   ( 2048 , 2730 )\n",
      "73 of 179  PORTRAIT  00100lPORTRAIT_00100_BURST20191129153516137_COVER-01resized.jpg (3024, 4032)  ->   ( 2048 , 2730 )\n",
      "74 of 179  PORTRAIT  00100lPORTRAIT_00100_BURST20191129153517357_COVER-01resized.jpg (3024, 4032)  ->   ( 2048 , 2730 )\n",
      "75 of 179  LANDSCAPE  00100lPORTRAIT_00100_BURST20191129153525199_COVER-01resized.jpg (4032, 3024)   ->   ( 2730 , 2048 )\n",
      "76 of 179  LANDSCAPE  00100lPORTRAIT_00100_BURST20191129153525199_COVER-02resized.jpg (4032, 3024)   ->   ( 2730 , 2048 )\n",
      "77 of 179  PORTRAIT  00100lPORTRAIT_00100_BURST20191129153746287_COVER-01resized.jpg (3024, 4032)  ->   ( 2048 , 2730 )\n",
      "78 of 179  LANDSCAPE  00100lPORTRAIT_00100_BURST20191129153758389_COVER-01resized.jpg (4032, 3024)   ->   ( 2730 , 2048 )\n",
      "79 of 179  PORTRAIT  00100lPORTRAIT_00100_BURST20191129153807546_COVER-01resized.jpg (3024, 4032)  ->   ( 2048 , 2730 )\n",
      "80 of 179  PORTRAIT  00100lPORTRAIT_00100_BURST20191129153950598_COVER-01resized.jpg (3024, 4032)  ->   ( 2048 , 2730 )\n",
      "81 of 179  LANDSCAPE  00100lPORTRAIT_00100_BURST20191129154002228_COVER-01resized.jpg (4032, 3024)   ->   ( 2730 , 2048 )\n",
      "82 of 179  PORTRAIT  00100lPORTRAIT_00100_BURST20191129154024925_COVER-01resized.jpg (3024, 4032)  ->   ( 2048 , 2730 )\n",
      "83 of 179  PORTRAIT  00100lPORTRAIT_00100_BURST20191129154442853_COVER-01resized.jpg (3024, 4032)  ->   ( 2048 , 2730 )\n",
      "84 of 179  PORTRAIT  00100lPORTRAIT_00100_BURST20191129154459530_COVER-01resized.jpg (3024, 4032)  ->   ( 2048 , 2730 )\n",
      "85 of 179  PORTRAIT  00100lPORTRAIT_00100_BURST20191129154513857_COVER-01resized.jpg (3024, 4032)  ->   ( 2048 , 2730 )\n",
      "86 of 179  PORTRAIT  00100lPORTRAIT_00100_BURST20191129154536991_COVER-01resized.jpg (3024, 4032)  ->   ( 2048 , 2730 )\n",
      "87 of 179  PORTRAIT  00000IMG_00000_BURST20191208133629267_COVER-01resized.jpg (3024, 4032)  ->   ( 2048 , 2730 )\n",
      "88 of 179  PORTRAIT  00000IMG_00000_BURST20191208133648922_COVER-01resized.jpg (3024, 4032)  ->   ( 2048 , 2730 )\n",
      "89 of 179  PORTRAIT  00000IMG_00000_BURST20191208133700048_COVER-01resized.jpg (3024, 4032)  ->   ( 2048 , 2730 )\n",
      "90 of 179  PORTRAIT  00000IMG_00000_BURST20191208133713739_COVER-01resized.jpg (3024, 4032)  ->   ( 2048 , 2730 )\n",
      "91 of 179  PORTRAIT  00000IMG_00000_BURST20191208133725419_COVER-01resized.jpg (3024, 4032)  ->   ( 2048 , 2730 )\n",
      "92 of 179  PORTRAIT  00000IMG_00000_BURST20191208133752735_COVER-01resized.jpg (3024, 4032)  ->   ( 2048 , 2730 )\n",
      "93 of 179  LANDSCAPE  00000IMG_00000_BURST20191219143203106_COVERresized.jpg (4032, 3024)   ->   ( 2730 , 2048 )\n",
      "94 of 179  LANDSCAPE  00000IMG_00000_BURST20191219143206168_COVERresized.jpg (4032, 3024)   ->   ( 2730 , 2048 )\n",
      "95 of 179  PORTRAIT  00000IMG_00000_BURST20191219143206608_COVER-01resized.jpg (2889, 3852)  ->   ( 2048 , 2730 )\n",
      "96 of 179  LANDSCAPE  00000IMG_00000_BURST20191219143206608_COVERresized.jpg (4032, 3024)   ->   ( 2730 , 2048 )\n",
      "97 of 179  LANDSCAPE  00000IMG_00000_BURST20191219143219077_COVERresized.jpg (4032, 3024)   ->   ( 2730 , 2048 )\n",
      "98 of 179  PORTRAIT  00000IMG_00000_BURST20191219143228487_COVER-01resized.jpg (3024, 4032)  ->   ( 2048 , 2730 )\n",
      "99 of 179  LANDSCAPE  00000IMG_00000_BURST20191219143228487_COVERresized.jpg (4032, 3024)   ->   ( 2730 , 2048 )\n",
      "100 of 179  LANDSCAPE  00000IMG_00000_BURST20191219143228973_COVERresized.jpg (4032, 3024)   ->   ( 2730 , 2048 )\n",
      "101 of 179  LANDSCAPE  00000IMG_00000_BURST20191219143237902_COVERresized.jpg (4032, 3024)   ->   ( 2730 , 2048 )\n",
      "102 of 179  PORTRAIT  00000IMG_00000_BURST20191219143448246_COVER-01resized.jpg (2878, 3837)  ->   ( 2048 , 2730 )\n",
      "103 of 179  LANDSCAPE  00000IMG_00000_BURST20191219143448246_COVERresized.jpg (4032, 3024)   ->   ( 2730 , 2048 )\n",
      "104 of 179  PORTRAIT  00000IMG_00000_BURST20191219143448706_COVER-01resized.jpg (2828, 3771)  ->   ( 2048 , 2730 )\n",
      "105 of 179  LANDSCAPE  00000IMG_00000_BURST20191219143448706_COVERresized.jpg (4032, 3024)   ->   ( 2730 , 2048 )\n",
      "106 of 179  LANDSCAPE  00000IMG_00000_BURST20191219143451384_COVERresized.jpg (4032, 3024)   ->   ( 2730 , 2048 )\n",
      "107 of 179  PORTRAIT  00000IMG_00000_BURST20191219143455088_COVER-01resized.jpg (3024, 4032)  ->   ( 2048 , 2730 )\n",
      "108 of 179  LANDSCAPE  00000IMG_00000_BURST20191219143455088_COVERresized.jpg (4032, 3024)   ->   ( 2730 , 2048 )\n",
      "109 of 179  LANDSCAPE  00000IMG_00000_BURST20191219143534169_COVER-01resized.jpg (4032, 3024)   ->   ( 2730 , 2048 )\n",
      "110 of 179  LANDSCAPE  00000IMG_00000_BURST20191219143534169_COVER-02resized.jpg (4032, 3024)   ->   ( 2730 , 2048 )\n",
      "111 of 179  LANDSCAPE  00000IMG_00000_BURST20191219143534169_COVERresized.jpg (4032, 3024)   ->   ( 2730 , 2048 )\n",
      "112 of 179  LANDSCAPE  00000IMG_00000_BURST20191219143534747_COVERresized.jpg (4032, 3024)   ->   ( 2730 , 2048 )\n",
      "113 of 179  PORTRAIT  00000IMG_00000_BURST20191219143536685_COVER-01resized.jpg (3024, 4032)  ->   ( 2048 , 2730 )\n",
      "114 of 179  PORTRAIT  00100lrPORTRAIT_00100_BURST20191208132528907_COVER-01resized.jpg (3024, 4032)  ->   ( 2048 , 2730 )\n",
      "115 of 179  PORTRAIT  00100lrPORTRAIT_00100_BURST20191208132634458_COVER-01resized.jpg (3024, 4032)  ->   ( 2048 , 2730 )\n",
      "116 of 179  PORTRAIT  00100lrPORTRAIT_00100_BURST20191208132653212_COVER-01resized.jpg (3024, 4032)  ->   ( 2048 , 2730 )\n",
      "117 of 179  PORTRAIT  00100lrPORTRAIT_00100_BURST20191208132701620_COVER-01resized.jpg (3024, 4032)  ->   ( 2048 , 2730 )\n",
      "118 of 179  PORTRAIT  00100lrPORTRAIT_00100_BURST20191208132723853_COVER-01resized.jpg (3024, 4032)  ->   ( 2048 , 2730 )\n",
      "119 of 179  PORTRAIT  00100lrPORTRAIT_00100_BURST20191208132738263_COVER-01resized.jpg (3024, 4032)  ->   ( 2048 , 2730 )\n",
      "120 of 179  PORTRAIT  00100lrPORTRAIT_00100_BURST20191208132756150_COVER-01resized.jpg (3024, 4032)  ->   ( 2048 , 2730 )\n",
      "121 of 179  PORTRAIT  00100lrPORTRAIT_00100_BURST20191208132826368_COVER-01resized.jpg (3024, 4032)  ->   ( 2048 , 2730 )\n",
      "122 of 179  PORTRAIT  00100lrPORTRAIT_00100_BURST20191208132849229_COVER-01resized.jpg (3024, 4032)  ->   ( 2048 , 2730 )\n",
      "123 of 179  PORTRAIT  00100lrPORTRAIT_00100_BURST20191208132900610_COVER-01resized.jpg (3024, 4032)  ->   ( 2048 , 2730 )\n",
      "124 of 179  PORTRAIT  00100lrPORTRAIT_00100_BURST20191208132931899_COVER-01resized.jpg (3024, 4032)  ->   ( 2048 , 2730 )\n",
      "125 of 179  PORTRAIT  00100lrPORTRAIT_00100_BURST20191208133010790_COVER-01resized.jpg (3024, 4032)  ->   ( 2048 , 2730 )\n",
      "126 of 179  PORTRAIT  00100lrPORTRAIT_00100_BURST20191208133034249_COVER-01resized.jpg (3024, 4032)  ->   ( 2048 , 2730 )\n",
      "127 of 179  PORTRAIT  00100lrPORTRAIT_00100_BURST20191208133116960_COVER-01resized.jpg (3024, 4032)  ->   ( 2048 , 2730 )\n",
      "128 of 179  PORTRAIT  00000IMG_00000_BURST20191219143402350_COVER-01resized.jpg (3024, 4032)  ->   ( 2048 , 2730 )\n",
      "129 of 179  LANDSCAPE  00000IMG_00000_BURST20191219143402350_COVERresized.jpg (4032, 3024)   ->   ( 2730 , 2048 )\n",
      "130 of 179  LANDSCAPE  00000IMG_00000_BURST20191219143404930_COVERresized.jpg (4032, 3024)   ->   ( 2730 , 2048 )\n",
      "131 of 179  LANDSCAPE  00000IMG_00000_BURST20191219143407587_COVERresized.jpg (4032, 3024)   ->   ( 2730 , 2048 )\n",
      "132 of 179  LANDSCAPE  00000IMG_00000_BURST20191219143408214_COVERresized.jpg (4032, 3024)   ->   ( 2730 , 2048 )\n",
      "133 of 179  PORTRAIT  00000IMG_00000_BURST20191219143409317_COVER-01resized.jpg (3024, 4032)  ->   ( 2048 , 2730 )\n",
      "134 of 179  LANDSCAPE  00000IMG_00000_BURST20191219143409317_COVERresized.jpg (4032, 3024)   ->   ( 2730 , 2048 )\n",
      "135 of 179  LANDSCAPE  00000IMG_00000_BURST20191219143440154_COVERresized.jpg (4032, 3024)   ->   ( 2730 , 2048 )\n",
      "136 of 179  PORTRAIT  00000IMG_00000_BURST20191219143443458_COVER-01resized.jpg (3024, 4032)  ->   ( 2048 , 2730 )\n",
      "137 of 179  PORTRAIT  00000IMG_00000_BURST20191219143443458_COVER-02resized.jpg (3024, 4032)  ->   ( 2048 , 2730 )\n",
      "138 of 179  LANDSCAPE  00000IMG_00000_BURST20191219143443458_COVERresized.jpg (4032, 3024)   ->   ( 2730 , 2048 )\n",
      "139 of 179  PORTRAIT  00000IMG_00000_BURST20191219143445948_COVER-01resized.jpg (3024, 4032)  ->   ( 2048 , 2730 )\n",
      "140 of 179  LANDSCAPE  00000IMG_00000_BURST20191219143445948_COVERresized.jpg (4032, 3024)   ->   ( 2730 , 2048 )\n",
      "141 of 179  PORTRAIT  00000IMG_00000_BURST20191219143446390_COVER-01resized.jpg (3024, 4032)  ->   ( 2048 , 2730 )\n"
     ]
    },
    {
     "name": "stdout",
     "output_type": "stream",
     "text": [
      "142 of 179  PORTRAIT  00000IMG_00000_BURST20191219143446390_COVER-02resized.jpg (3024, 4032)  ->   ( 2048 , 2730 )\n",
      "143 of 179  PORTRAIT  00000IMG_00000_BURST20191208132839774_COVER-01 (1)resized.jpg (3024, 4032)  ->   ( 2048 , 2730 )\n",
      "144 of 179  PORTRAIT  00000IMG_00000_BURST20191208132839774_COVER-01resized.jpg (3024, 4032)  ->   ( 2048 , 2730 )\n",
      "145 of 179  PORTRAIT  00000IMG_00000_BURST20191208132915701_COVER-01resized.jpg (3024, 4032)  ->   ( 2048 , 2730 )\n",
      "146 of 179  LANDSCAPE  00000IMG_00000_BURST20191208133002277_COVER-01resized.jpg (4032, 3024)   ->   ( 2730 , 2048 )\n",
      "147 of 179  PORTRAIT  00000IMG_00000_BURST20191208133026138_COVER-01resized.jpg (3024, 4032)  ->   ( 2048 , 2730 )\n",
      "148 of 179  PORTRAIT  00000IMG_00000_BURST20191208133053190_COVER-01resized.jpg (3024, 4032)  ->   ( 2048 , 2730 )\n",
      "149 of 179  PORTRAIT  00000IMG_00000_BURST20191208133133954_COVER-01resized.jpg (3024, 4032)  ->   ( 2048 , 2730 )\n",
      "150 of 179  PORTRAIT  00000IMG_00000_BURST20191208133154925_COVER-01resized.jpg (3024, 4032)  ->   ( 2048 , 2730 )\n",
      "151 of 179  PORTRAIT  00000IMG_00000_BURST20191208133233990_COVER-01resized.jpg (3024, 4032)  ->   ( 2048 , 2730 )\n",
      "152 of 179  PORTRAIT  00000IMG_00000_BURST20191208133243283_COVER-01resized.jpg (3024, 4032)  ->   ( 2048 , 2730 )\n",
      "153 of 179  PORTRAIT  00000IMG_00000_BURST20191208133357786_COVER-01resized.jpg (3024, 4032)  ->   ( 2048 , 2730 )\n",
      "154 of 179  PORTRAIT  00000IMG_00000_BURST20191208133422627_COVER-01resized.jpg (3024, 4032)  ->   ( 2048 , 2730 )\n",
      "155 of 179  PORTRAIT  00000IMG_00000_BURST20191208133448784_COVER-01resized.jpg (3024, 4032)  ->   ( 2048 , 2730 )\n",
      "156 of 179  PORTRAIT  00000IMG_00000_BURST20191208133527207_COVER-01resized.jpg (3024, 4032)  ->   ( 2048 , 2730 )\n",
      "157 of 179  PORTRAIT  00000IMG_00000_BURST20191219143538197_COVER-01resized.jpg (3024, 4032)  ->   ( 2048 , 2730 )\n",
      "158 of 179  LANDSCAPE  00000IMG_00000_BURST20191219143538197_COVERresized.jpg (4032, 3024)   ->   ( 2730 , 2048 )\n",
      "159 of 179  PORTRAIT  00000IMG_00000_BURST20191219143540278_COVER-01resized.jpg (3024, 4032)  ->   ( 2048 , 2730 )\n",
      "160 of 179  LANDSCAPE  00000IMG_00000_BURST20191219143540278_COVERresized.jpg (4032, 3024)   ->   ( 2730 , 2048 )\n",
      "161 of 179  PORTRAIT  00000IMG_00000_BURST20191219143542830_COVER-01resized.jpg (3024, 4032)  ->   ( 2048 , 2730 )\n",
      "162 of 179  LANDSCAPE  00000IMG_00000_BURST20191219143542830_COVERresized.jpg (4032, 3024)   ->   ( 2730 , 2048 )\n",
      "163 of 179  LANDSCAPE  00000IMG_00000_BURST20191219143606694_COVERresized.jpg (4032, 3024)   ->   ( 2730 , 2048 )\n",
      "164 of 179  PORTRAIT  00000IMG_00000_BURST20191219143609978_COVER-01resized.jpg (3024, 4032)  ->   ( 2048 , 2730 )\n",
      "165 of 179  LANDSCAPE  00000IMG_00000_BURST20191219143609978_COVERresized.jpg (4032, 3024)   ->   ( 2730 , 2048 )\n",
      "166 of 179  PORTRAIT  00000IMG_00000_BURST20191219143611449_COVER-01resized.jpg (3024, 4032)  ->   ( 2048 , 2730 )\n",
      "167 of 179  LANDSCAPE  00000IMG_00000_BURST20191219143611449_COVERresized.jpg (4032, 3024)   ->   ( 2730 , 2048 )\n",
      "168 of 179  LANDSCAPE  00000IMG_00000_BURST20191219143613054_COVERresized.jpg (4032, 3024)   ->   ( 2730 , 2048 )\n",
      "169 of 179  LANDSCAPE  00000IMG_00000_BURST20191219143614458_COVERresized.jpg (4032, 3024)   ->   ( 2730 , 2048 )\n",
      "170 of 179  LANDSCAPE  00100lrPORTRAIT_00100_BURST20191219143437740_COVER-01resized.jpg (4032, 3024)   ->   ( 2730 , 2048 )\n",
      "171 of 179  LANDSCAPE  00100lrPORTRAIT_00100_BURST20191219143437740_COVERresized.jpg (4032, 3024)   ->   ( 2730 , 2048 )\n",
      "172 of 179  LANDSCAPE  00100lrPORTRAIT_00100_BURST20191219143607244_COVER-01resized.jpg (4032, 3024)   ->   ( 2730 , 2048 )\n",
      "173 of 179  LANDSCAPE  00100lrPORTRAIT_00100_BURST20191219143607244_COVERresized.jpg (4032, 3024)   ->   ( 2730 , 2048 )\n",
      "174 of 179  PORTRAIT  chick 1resized.jpg (3024, 4032)  ->   ( 2048 , 2730 )\n",
      "175 of 179  PORTRAIT  chick 2resized.jpg (3024, 4032)  ->   ( 2048 , 2730 )\n",
      "176 of 179  LANDSCAPE  IMG_20191219_143432resized.jpg (4032, 3024)   ->   ( 2730 , 2048 )\n",
      "177 of 179  LANDSCAPE  IMG_20191219_143650resized.jpg (4032, 3024)   ->   ( 2730 , 2048 )\n",
      "178 of 179  PORTRAIT  IMG_20191219_143651-01resized.jpg (3024, 4032)  ->   ( 2048 , 2730 )\n",
      "179 of 179  LANDSCAPE  IMG_20191219_143651resized.jpg (4032, 3024)   ->   ( 2730 , 2048 )\n"
     ]
    }
   ],
   "source": [
    "# We make a counter to track our loop's progress\n",
    "c = 0\n",
    "# We initialize a loop over each picture in the directory\n",
    "for file in pictures:\n",
    "    # We define where we want to save final image\n",
    "    save_path = os.path.join(os.getcwd(),'resized')\n",
    "    # These images are rectangular, so we want to define the minimum bound for width OR height\n",
    "    min_size = 2048\n",
    "    # We open each image and save the height & width\n",
    "    img = Image.open(file)\n",
    "    height = img.size[1]\n",
    "    width = img.size[0]\n",
    "    # We calculate what the mimimum size as a % of height and width\n",
    "    wpct = (min_size/float(width))\n",
    "    hpct = (min_size/float(height))\n",
    "    # We define the targe height or width - we'll only use one depending on if the image is portrait or landscape\n",
    "    wsize = int(img.size[0]*float(hpct))\n",
    "    hsize = int(img.size[1]*float(wpct))\n",
    "    # We split the filename at its file extension and append 'resized' to the end of the new file\n",
    "    new_name = file.split('.jpg')[0] + 'resized.jpg'\n",
    "    # We iterate our counter once\n",
    "    c+=1\n",
    "    # If our width is greater than height, ie. landscape orientation\n",
    "    if width > height:\n",
    "        # Print out the counter, the new name, old dimensions and then the new dimenions\n",
    "        print(c,\"of\",len(pictures),\" LANDSCAPE \",new_name, img.size, \"  ->  \",\"(\",wsize,\",\",min_size,\")\")\n",
    "        # Resize and save the file, using our minimim dimension as the height and proportional width\n",
    "        img = img.resize((wsize,min_size), PIL.Image.ANTIALIAS)\n",
    "        # Image quality reduced by 50% to massively save on file size - but still plenty pretty!\n",
    "        img.save(os.path.join(save_path, new_name),quality=50)\n",
    "        \n",
    "\n",
    "    else:\n",
    "        print(c,\"of\",len(pictures),\" PORTRAIT \",new_name, img.size, \" ->  \",\"(\",min_size,\",\",hsize,\")\")\n",
    "        # Resize and save the file, using our minimum dimension as the width and proportional height\n",
    "        img = img.resize((min_size,hsize), PIL.Image.ANTIALIAS)\n",
    "        # Image quality reduce by 50% to massively save on file size - but still plenty pretty!\n",
    "        img.save(os.path.join(save_path, new_name),quality=50)\n"
   ]
  },
  {
   "cell_type": "code",
   "execution_count": null,
   "metadata": {},
   "outputs": [],
   "source": []
  }
 ],
 "metadata": {
  "kernelspec": {
   "display_name": "Python 3",
   "language": "python",
   "name": "python3"
  },
  "language_info": {
   "codemirror_mode": {
    "name": "ipython",
    "version": 3
   },
   "file_extension": ".py",
   "mimetype": "text/x-python",
   "name": "python",
   "nbconvert_exporter": "python",
   "pygments_lexer": "ipython3",
   "version": "3.7.4"
  }
 },
 "nbformat": 4,
 "nbformat_minor": 2
}
